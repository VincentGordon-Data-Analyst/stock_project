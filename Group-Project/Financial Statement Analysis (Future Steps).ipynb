{
 "cells": [
  {
   "cell_type": "code",
   "execution_count": 5,
   "id": "7ae67067",
   "metadata": {},
   "outputs": [],
   "source": [
    "import pandas as pd\n",
    "import numpy as np\n",
    "import yfinance as yf\n",
    "import json\n",
    "import time \n",
    "import matplotlib.pyplot as plt "
   ]
  },
  {
   "cell_type": "code",
   "execution_count": 6,
   "id": "5eafb0e4",
   "metadata": {},
   "outputs": [],
   "source": [
    "combine = pd.read_csv(\"Output/SummaryStockData.csv\")"
   ]
  },
  {
   "cell_type": "markdown",
   "id": "c8d557ab",
   "metadata": {},
   "source": [
    "## Financials of IT industry vs other Industry (Vincent)\n"
   ]
  },
  {
   "cell_type": "markdown",
   "id": "2ec50cd4",
   "metadata": {},
   "source": [
    "## For loop to extract Financials"
   ]
  },
  {
   "cell_type": "code",
   "execution_count": 7,
   "id": "d15941c4",
   "metadata": {},
   "outputs": [],
   "source": [
    "symbols = combine[\"Symbol\"].to_list()"
   ]
  },
  {
   "cell_type": "code",
   "execution_count": 8,
   "id": "aa2153f0",
   "metadata": {
    "scrolled": false
   },
   "outputs": [
    {
     "name": "stdout",
     "output_type": "stream",
     "text": [
      "Begin Extraction of Ticker\n"
     ]
    },
    {
     "name": "stderr",
     "output_type": "stream",
     "text": [
      "/var/folders/4g/011mcyls15v476x5cqlrm5sm0000gn/T/ipykernel_7098/2679860691.py:15: SettingWithCopyWarning: \n",
      "A value is trying to be set on a copy of a slice from a DataFrame.\n",
      "Try using .loc[row_indexer,col_indexer] = value instead\n",
      "\n",
      "See the caveats in the documentation: https://pandas.pydata.org/pandas-docs/stable/user_guide/indexing.html#returning-a-view-versus-a-copy\n",
      "  isolate.loc[:,\"Symbol\"] = symbol\n"
     ]
    },
    {
     "name": "stdout",
     "output_type": "stream",
     "text": [
      "AAPL has been extracted\n"
     ]
    },
    {
     "name": "stderr",
     "output_type": "stream",
     "text": [
      "/var/folders/4g/011mcyls15v476x5cqlrm5sm0000gn/T/ipykernel_7098/2679860691.py:15: SettingWithCopyWarning: \n",
      "A value is trying to be set on a copy of a slice from a DataFrame.\n",
      "Try using .loc[row_indexer,col_indexer] = value instead\n",
      "\n",
      "See the caveats in the documentation: https://pandas.pydata.org/pandas-docs/stable/user_guide/indexing.html#returning-a-view-versus-a-copy\n",
      "  isolate.loc[:,\"Symbol\"] = symbol\n"
     ]
    },
    {
     "name": "stdout",
     "output_type": "stream",
     "text": [
      "AMZN has been extracted\n"
     ]
    },
    {
     "name": "stderr",
     "output_type": "stream",
     "text": [
      "/var/folders/4g/011mcyls15v476x5cqlrm5sm0000gn/T/ipykernel_7098/2679860691.py:15: SettingWithCopyWarning: \n",
      "A value is trying to be set on a copy of a slice from a DataFrame.\n",
      "Try using .loc[row_indexer,col_indexer] = value instead\n",
      "\n",
      "See the caveats in the documentation: https://pandas.pydata.org/pandas-docs/stable/user_guide/indexing.html#returning-a-view-versus-a-copy\n",
      "  isolate.loc[:,\"Symbol\"] = symbol\n"
     ]
    },
    {
     "name": "stdout",
     "output_type": "stream",
     "text": [
      "NFLX has been extracted\n"
     ]
    },
    {
     "name": "stderr",
     "output_type": "stream",
     "text": [
      "/var/folders/4g/011mcyls15v476x5cqlrm5sm0000gn/T/ipykernel_7098/2679860691.py:15: SettingWithCopyWarning: \n",
      "A value is trying to be set on a copy of a slice from a DataFrame.\n",
      "Try using .loc[row_indexer,col_indexer] = value instead\n",
      "\n",
      "See the caveats in the documentation: https://pandas.pydata.org/pandas-docs/stable/user_guide/indexing.html#returning-a-view-versus-a-copy\n",
      "  isolate.loc[:,\"Symbol\"] = symbol\n"
     ]
    },
    {
     "name": "stdout",
     "output_type": "stream",
     "text": [
      "GOOGL has been extracted\n"
     ]
    },
    {
     "name": "stderr",
     "output_type": "stream",
     "text": [
      "/var/folders/4g/011mcyls15v476x5cqlrm5sm0000gn/T/ipykernel_7098/2679860691.py:15: SettingWithCopyWarning: \n",
      "A value is trying to be set on a copy of a slice from a DataFrame.\n",
      "Try using .loc[row_indexer,col_indexer] = value instead\n",
      "\n",
      "See the caveats in the documentation: https://pandas.pydata.org/pandas-docs/stable/user_guide/indexing.html#returning-a-view-versus-a-copy\n",
      "  isolate.loc[:,\"Symbol\"] = symbol\n"
     ]
    },
    {
     "name": "stdout",
     "output_type": "stream",
     "text": [
      "MSFT has been extracted\n"
     ]
    },
    {
     "name": "stderr",
     "output_type": "stream",
     "text": [
      "/var/folders/4g/011mcyls15v476x5cqlrm5sm0000gn/T/ipykernel_7098/2679860691.py:15: SettingWithCopyWarning: \n",
      "A value is trying to be set on a copy of a slice from a DataFrame.\n",
      "Try using .loc[row_indexer,col_indexer] = value instead\n",
      "\n",
      "See the caveats in the documentation: https://pandas.pydata.org/pandas-docs/stable/user_guide/indexing.html#returning-a-view-versus-a-copy\n",
      "  isolate.loc[:,\"Symbol\"] = symbol\n"
     ]
    },
    {
     "name": "stdout",
     "output_type": "stream",
     "text": [
      "NVDA has been extracted\n",
      "TSLA has been extracted\n"
     ]
    },
    {
     "name": "stderr",
     "output_type": "stream",
     "text": [
      "/var/folders/4g/011mcyls15v476x5cqlrm5sm0000gn/T/ipykernel_7098/2679860691.py:15: SettingWithCopyWarning: \n",
      "A value is trying to be set on a copy of a slice from a DataFrame.\n",
      "Try using .loc[row_indexer,col_indexer] = value instead\n",
      "\n",
      "See the caveats in the documentation: https://pandas.pydata.org/pandas-docs/stable/user_guide/indexing.html#returning-a-view-versus-a-copy\n",
      "  isolate.loc[:,\"Symbol\"] = symbol\n"
     ]
    }
   ],
   "source": [
    "list_of_df = []\n",
    "\n",
    "print(\"Begin Extraction of Ticker\")\n",
    "tech = ['AAPL', 'AMZN', 'NFLX', 'GOOGL', 'MSFT', 'NVDA', 'TSLA']\n",
    "\n",
    "for symbol in tech:\n",
    "\n",
    "    extract = yf.Ticker(symbol)\n",
    "    financials = extract.financials\n",
    "    financials = financials.transpose()\n",
    "    importance = [\"Net Income\", \"Other Operating Expenses\", \"Research Development\", \"Gross Profit\"]\n",
    "\n",
    "    isolate = financials[importance]\n",
    "\n",
    "    isolate.loc[:,\"Symbol\"] = symbol \n",
    "\n",
    "    list_of_df.append(isolate)\n",
    "\n",
    "    print(f\"{symbol} has been extracted\")"
   ]
  },
  {
   "cell_type": "code",
   "execution_count": 9,
   "id": "4158aba5",
   "metadata": {},
   "outputs": [],
   "source": [
    "consolidated_financials = pd.concat(list_of_df, axis = 0)"
   ]
  },
  {
   "cell_type": "code",
   "execution_count": 10,
   "id": "d8898579",
   "metadata": {},
   "outputs": [],
   "source": [
    "for column in importance:\n",
    "    consolidated_financials[column] = consolidated_financials[column].astype(str)\n",
    "    consolidated_financials[column] = consolidated_financials[column].str.replace(\"None\", '0')\n",
    "    consolidated_financials[column] = consolidated_financials[column].astype(float)"
   ]
  },
  {
   "cell_type": "code",
   "execution_count": 11,
   "id": "e6b3819c",
   "metadata": {},
   "outputs": [],
   "source": [
    "# Convert to dataframe\n",
    "consolidated_financials = pd.DataFrame(consolidated_financials)"
   ]
  },
  {
   "cell_type": "code",
   "execution_count": 12,
   "id": "10e1f6b2",
   "metadata": {},
   "outputs": [
    {
     "data": {
      "text/html": [
       "<div>\n",
       "<style scoped>\n",
       "    .dataframe tbody tr th:only-of-type {\n",
       "        vertical-align: middle;\n",
       "    }\n",
       "\n",
       "    .dataframe tbody tr th {\n",
       "        vertical-align: top;\n",
       "    }\n",
       "\n",
       "    .dataframe thead th {\n",
       "        text-align: right;\n",
       "    }\n",
       "</style>\n",
       "<table border=\"1\" class=\"dataframe\">\n",
       "  <thead>\n",
       "    <tr style=\"text-align: right;\">\n",
       "      <th></th>\n",
       "      <th>Net Income</th>\n",
       "      <th>Other Operating Expenses</th>\n",
       "      <th>Research Development</th>\n",
       "      <th>Gross Profit</th>\n",
       "      <th>Symbol</th>\n",
       "    </tr>\n",
       "    <tr>\n",
       "      <th></th>\n",
       "      <th></th>\n",
       "      <th></th>\n",
       "      <th></th>\n",
       "      <th></th>\n",
       "      <th></th>\n",
       "    </tr>\n",
       "  </thead>\n",
       "  <tbody>\n",
       "    <tr>\n",
       "      <th>2022-09-24</th>\n",
       "      <td>9.980300e+10</td>\n",
       "      <td>0.0</td>\n",
       "      <td>2.625100e+10</td>\n",
       "      <td>1.707820e+11</td>\n",
       "      <td>AAPL</td>\n",
       "    </tr>\n",
       "    <tr>\n",
       "      <th>2021-09-25</th>\n",
       "      <td>9.468000e+10</td>\n",
       "      <td>0.0</td>\n",
       "      <td>2.191400e+10</td>\n",
       "      <td>1.528360e+11</td>\n",
       "      <td>AAPL</td>\n",
       "    </tr>\n",
       "    <tr>\n",
       "      <th>2020-09-26</th>\n",
       "      <td>5.741100e+10</td>\n",
       "      <td>0.0</td>\n",
       "      <td>1.875200e+10</td>\n",
       "      <td>1.049560e+11</td>\n",
       "      <td>AAPL</td>\n",
       "    </tr>\n",
       "    <tr>\n",
       "      <th>2019-09-28</th>\n",
       "      <td>5.525600e+10</td>\n",
       "      <td>0.0</td>\n",
       "      <td>1.621700e+10</td>\n",
       "      <td>9.839200e+10</td>\n",
       "      <td>AAPL</td>\n",
       "    </tr>\n",
       "    <tr>\n",
       "      <th>2021-12-31</th>\n",
       "      <td>3.336400e+10</td>\n",
       "      <td>62000000.0</td>\n",
       "      <td>5.605200e+10</td>\n",
       "      <td>1.974780e+11</td>\n",
       "      <td>AMZN</td>\n",
       "    </tr>\n",
       "  </tbody>\n",
       "</table>\n",
       "</div>"
      ],
      "text/plain": [
       "              Net Income  Other Operating Expenses  Research Development  \\\n",
       "                                                                           \n",
       "2022-09-24  9.980300e+10                       0.0          2.625100e+10   \n",
       "2021-09-25  9.468000e+10                       0.0          2.191400e+10   \n",
       "2020-09-26  5.741100e+10                       0.0          1.875200e+10   \n",
       "2019-09-28  5.525600e+10                       0.0          1.621700e+10   \n",
       "2021-12-31  3.336400e+10                62000000.0          5.605200e+10   \n",
       "\n",
       "            Gross Profit Symbol  \n",
       "                                 \n",
       "2022-09-24  1.707820e+11   AAPL  \n",
       "2021-09-25  1.528360e+11   AAPL  \n",
       "2020-09-26  1.049560e+11   AAPL  \n",
       "2019-09-28  9.839200e+10   AAPL  \n",
       "2021-12-31  1.974780e+11   AMZN  "
      ]
     },
     "execution_count": 12,
     "metadata": {},
     "output_type": "execute_result"
    }
   ],
   "source": [
    "consolidated_financials.head()"
   ]
  },
  {
   "cell_type": "markdown",
   "id": "d5cd63c1",
   "metadata": {},
   "source": [
    "## Growth Rate "
   ]
  },
  {
   "cell_type": "code",
   "execution_count": 13,
   "id": "ed2ab5c4",
   "metadata": {},
   "outputs": [],
   "source": [
    "growth_data = consolidated_financials"
   ]
  },
  {
   "cell_type": "code",
   "execution_count": 14,
   "id": "03d15de6",
   "metadata": {},
   "outputs": [],
   "source": [
    "growth_data.reset_index(inplace=True)"
   ]
  },
  {
   "cell_type": "code",
   "execution_count": 15,
   "id": "83ef7a37",
   "metadata": {},
   "outputs": [],
   "source": [
    "# Create array to store percent change for each stock\n",
    "growth_rate = []\n",
    "\n",
    "# Initiliaze start and end parameters\n",
    "start = 0\n",
    "end = 4 \n",
    "\n",
    "# Calculate growth rate for each stock based on 4 year period\n",
    "for row in range(0,len(growth_data),4):\n",
    "    growth_rate.append(growth_data.iloc[start : end]['Net Income'].pct_change().mul(100))\n",
    "    \n",
    "    start += 4\n",
    "    end += 4"
   ]
  },
  {
   "cell_type": "code",
   "execution_count": 16,
   "id": "89aafddf",
   "metadata": {},
   "outputs": [],
   "source": [
    "growth_data[\"Growth Rate\"] = (growth_data.groupby('Symbol')['Net Income'].apply(pd.Series.pct_change)+1)"
   ]
  },
  {
   "cell_type": "code",
   "execution_count": 17,
   "id": "9782bca3",
   "metadata": {},
   "outputs": [
    {
     "data": {
      "text/html": [
       "<div>\n",
       "<style scoped>\n",
       "    .dataframe tbody tr th:only-of-type {\n",
       "        vertical-align: middle;\n",
       "    }\n",
       "\n",
       "    .dataframe tbody tr th {\n",
       "        vertical-align: top;\n",
       "    }\n",
       "\n",
       "    .dataframe thead th {\n",
       "        text-align: right;\n",
       "    }\n",
       "</style>\n",
       "<table border=\"1\" class=\"dataframe\">\n",
       "  <thead>\n",
       "    <tr style=\"text-align: right;\">\n",
       "      <th></th>\n",
       "      <th></th>\n",
       "      <th>Net Income</th>\n",
       "      <th>Other Operating Expenses</th>\n",
       "      <th>Research Development</th>\n",
       "      <th>Gross Profit</th>\n",
       "      <th>Symbol</th>\n",
       "      <th>Growth Rate</th>\n",
       "    </tr>\n",
       "  </thead>\n",
       "  <tbody>\n",
       "    <tr>\n",
       "      <th>0</th>\n",
       "      <td>2022-09-24</td>\n",
       "      <td>9.980300e+10</td>\n",
       "      <td>0.0</td>\n",
       "      <td>2.625100e+10</td>\n",
       "      <td>1.707820e+11</td>\n",
       "      <td>AAPL</td>\n",
       "      <td>NaN</td>\n",
       "    </tr>\n",
       "    <tr>\n",
       "      <th>1</th>\n",
       "      <td>2021-09-25</td>\n",
       "      <td>9.468000e+10</td>\n",
       "      <td>0.0</td>\n",
       "      <td>2.191400e+10</td>\n",
       "      <td>1.528360e+11</td>\n",
       "      <td>AAPL</td>\n",
       "      <td>0.948669</td>\n",
       "    </tr>\n",
       "    <tr>\n",
       "      <th>2</th>\n",
       "      <td>2020-09-26</td>\n",
       "      <td>5.741100e+10</td>\n",
       "      <td>0.0</td>\n",
       "      <td>1.875200e+10</td>\n",
       "      <td>1.049560e+11</td>\n",
       "      <td>AAPL</td>\n",
       "      <td>0.606369</td>\n",
       "    </tr>\n",
       "    <tr>\n",
       "      <th>3</th>\n",
       "      <td>2019-09-28</td>\n",
       "      <td>5.525600e+10</td>\n",
       "      <td>0.0</td>\n",
       "      <td>1.621700e+10</td>\n",
       "      <td>9.839200e+10</td>\n",
       "      <td>AAPL</td>\n",
       "      <td>0.962464</td>\n",
       "    </tr>\n",
       "    <tr>\n",
       "      <th>4</th>\n",
       "      <td>2021-12-31</td>\n",
       "      <td>3.336400e+10</td>\n",
       "      <td>62000000.0</td>\n",
       "      <td>5.605200e+10</td>\n",
       "      <td>1.974780e+11</td>\n",
       "      <td>AMZN</td>\n",
       "      <td>NaN</td>\n",
       "    </tr>\n",
       "    <tr>\n",
       "      <th>5</th>\n",
       "      <td>2020-12-31</td>\n",
       "      <td>2.133100e+10</td>\n",
       "      <td>-75000000.0</td>\n",
       "      <td>4.274000e+10</td>\n",
       "      <td>1.527570e+11</td>\n",
       "      <td>AMZN</td>\n",
       "      <td>0.639342</td>\n",
       "    </tr>\n",
       "    <tr>\n",
       "      <th>6</th>\n",
       "      <td>2019-12-31</td>\n",
       "      <td>1.158800e+10</td>\n",
       "      <td>201000000.0</td>\n",
       "      <td>3.593100e+10</td>\n",
       "      <td>1.149860e+11</td>\n",
       "      <td>AMZN</td>\n",
       "      <td>0.543247</td>\n",
       "    </tr>\n",
       "    <tr>\n",
       "      <th>7</th>\n",
       "      <td>2018-12-31</td>\n",
       "      <td>1.007300e+10</td>\n",
       "      <td>296000000.0</td>\n",
       "      <td>2.883700e+10</td>\n",
       "      <td>9.373100e+10</td>\n",
       "      <td>AMZN</td>\n",
       "      <td>0.869261</td>\n",
       "    </tr>\n",
       "  </tbody>\n",
       "</table>\n",
       "</div>"
      ],
      "text/plain": [
       "                Net Income  Other Operating Expenses  Research Development  \\\n",
       "0 2022-09-24  9.980300e+10                       0.0          2.625100e+10   \n",
       "1 2021-09-25  9.468000e+10                       0.0          2.191400e+10   \n",
       "2 2020-09-26  5.741100e+10                       0.0          1.875200e+10   \n",
       "3 2019-09-28  5.525600e+10                       0.0          1.621700e+10   \n",
       "4 2021-12-31  3.336400e+10                62000000.0          5.605200e+10   \n",
       "5 2020-12-31  2.133100e+10               -75000000.0          4.274000e+10   \n",
       "6 2019-12-31  1.158800e+10               201000000.0          3.593100e+10   \n",
       "7 2018-12-31  1.007300e+10               296000000.0          2.883700e+10   \n",
       "\n",
       "   Gross Profit Symbol  Growth Rate  \n",
       "0  1.707820e+11   AAPL          NaN  \n",
       "1  1.528360e+11   AAPL     0.948669  \n",
       "2  1.049560e+11   AAPL     0.606369  \n",
       "3  9.839200e+10   AAPL     0.962464  \n",
       "4  1.974780e+11   AMZN          NaN  \n",
       "5  1.527570e+11   AMZN     0.639342  \n",
       "6  1.149860e+11   AMZN     0.543247  \n",
       "7  9.373100e+10   AMZN     0.869261  "
      ]
     },
     "execution_count": 17,
     "metadata": {},
     "output_type": "execute_result"
    }
   ],
   "source": [
    "growth_data.head(8)"
   ]
  },
  {
   "cell_type": "code",
   "execution_count": 18,
   "id": "b36816e6",
   "metadata": {},
   "outputs": [
    {
     "data": {
      "text/html": [
       "<div>\n",
       "<style scoped>\n",
       "    .dataframe tbody tr th:only-of-type {\n",
       "        vertical-align: middle;\n",
       "    }\n",
       "\n",
       "    .dataframe tbody tr th {\n",
       "        vertical-align: top;\n",
       "    }\n",
       "\n",
       "    .dataframe thead th {\n",
       "        text-align: right;\n",
       "    }\n",
       "</style>\n",
       "<table border=\"1\" class=\"dataframe\">\n",
       "  <thead>\n",
       "    <tr style=\"text-align: right;\">\n",
       "      <th></th>\n",
       "      <th></th>\n",
       "      <th>Net Income</th>\n",
       "      <th>Other Operating Expenses</th>\n",
       "      <th>Research Development</th>\n",
       "      <th>Gross Profit</th>\n",
       "      <th>Symbol</th>\n",
       "      <th>Growth Rate</th>\n",
       "    </tr>\n",
       "  </thead>\n",
       "  <tbody>\n",
       "    <tr>\n",
       "      <th>1</th>\n",
       "      <td>2021-09-25</td>\n",
       "      <td>9.468000e+10</td>\n",
       "      <td>0.0</td>\n",
       "      <td>2.191400e+10</td>\n",
       "      <td>1.528360e+11</td>\n",
       "      <td>AAPL</td>\n",
       "      <td>0.948669</td>\n",
       "    </tr>\n",
       "    <tr>\n",
       "      <th>2</th>\n",
       "      <td>2020-09-26</td>\n",
       "      <td>5.741100e+10</td>\n",
       "      <td>0.0</td>\n",
       "      <td>1.875200e+10</td>\n",
       "      <td>1.049560e+11</td>\n",
       "      <td>AAPL</td>\n",
       "      <td>0.606369</td>\n",
       "    </tr>\n",
       "    <tr>\n",
       "      <th>3</th>\n",
       "      <td>2019-09-28</td>\n",
       "      <td>5.525600e+10</td>\n",
       "      <td>0.0</td>\n",
       "      <td>1.621700e+10</td>\n",
       "      <td>9.839200e+10</td>\n",
       "      <td>AAPL</td>\n",
       "      <td>0.962464</td>\n",
       "    </tr>\n",
       "    <tr>\n",
       "      <th>5</th>\n",
       "      <td>2020-12-31</td>\n",
       "      <td>2.133100e+10</td>\n",
       "      <td>-75000000.0</td>\n",
       "      <td>4.274000e+10</td>\n",
       "      <td>1.527570e+11</td>\n",
       "      <td>AMZN</td>\n",
       "      <td>0.639342</td>\n",
       "    </tr>\n",
       "    <tr>\n",
       "      <th>6</th>\n",
       "      <td>2019-12-31</td>\n",
       "      <td>1.158800e+10</td>\n",
       "      <td>201000000.0</td>\n",
       "      <td>3.593100e+10</td>\n",
       "      <td>1.149860e+11</td>\n",
       "      <td>AMZN</td>\n",
       "      <td>0.543247</td>\n",
       "    </tr>\n",
       "    <tr>\n",
       "      <th>7</th>\n",
       "      <td>2018-12-31</td>\n",
       "      <td>1.007300e+10</td>\n",
       "      <td>296000000.0</td>\n",
       "      <td>2.883700e+10</td>\n",
       "      <td>9.373100e+10</td>\n",
       "      <td>AMZN</td>\n",
       "      <td>0.869261</td>\n",
       "    </tr>\n",
       "  </tbody>\n",
       "</table>\n",
       "</div>"
      ],
      "text/plain": [
       "                Net Income  Other Operating Expenses  Research Development  \\\n",
       "1 2021-09-25  9.468000e+10                       0.0          2.191400e+10   \n",
       "2 2020-09-26  5.741100e+10                       0.0          1.875200e+10   \n",
       "3 2019-09-28  5.525600e+10                       0.0          1.621700e+10   \n",
       "5 2020-12-31  2.133100e+10               -75000000.0          4.274000e+10   \n",
       "6 2019-12-31  1.158800e+10               201000000.0          3.593100e+10   \n",
       "7 2018-12-31  1.007300e+10               296000000.0          2.883700e+10   \n",
       "\n",
       "   Gross Profit Symbol  Growth Rate  \n",
       "1  1.528360e+11   AAPL     0.948669  \n",
       "2  1.049560e+11   AAPL     0.606369  \n",
       "3  9.839200e+10   AAPL     0.962464  \n",
       "5  1.527570e+11   AMZN     0.639342  \n",
       "6  1.149860e+11   AMZN     0.543247  \n",
       "7  9.373100e+10   AMZN     0.869261  "
      ]
     },
     "execution_count": 18,
     "metadata": {},
     "output_type": "execute_result"
    }
   ],
   "source": [
    "growth_data.dropna().head(6)"
   ]
  },
  {
   "cell_type": "markdown",
   "id": "48c18920",
   "metadata": {},
   "source": [
    "## Debt/Equity & Profit Margins "
   ]
  },
  {
   "cell_type": "code",
   "execution_count": 19,
   "id": "60c81f6e",
   "metadata": {},
   "outputs": [],
   "source": [
    "# Array for 7 tech stocks\n",
    "each_symbol = growth_data['Symbol'].unique()\n",
    "\n",
    "# Arrays to store vales of each stock\n",
    "debt_to_equity = []\n",
    "profit_margin = []\n",
    "\n",
    "for symbol in each_symbol:\n",
    "#   Debt/Equity ratio for each stock  \n",
    "    debt_to_equity.append(yf.Ticker(symbol).info['debtToEquity'])\n",
    "\n",
    "#   Profit Margin for each stock\n",
    "    profit_margin.append(yf.Ticker(symbol).info['profitMargins'] * 100)"
   ]
  },
  {
   "cell_type": "code",
   "execution_count": 20,
   "id": "4790b038",
   "metadata": {},
   "outputs": [],
   "source": [
    "final_df = growth_data.iloc[1::4]"
   ]
  },
  {
   "cell_type": "code",
   "execution_count": 21,
   "id": "8605127b",
   "metadata": {},
   "outputs": [
    {
     "name": "stderr",
     "output_type": "stream",
     "text": [
      "/var/folders/4g/011mcyls15v476x5cqlrm5sm0000gn/T/ipykernel_7098/2169584726.py:1: SettingWithCopyWarning: \n",
      "A value is trying to be set on a copy of a slice from a DataFrame.\n",
      "Try using .loc[row_indexer,col_indexer] = value instead\n",
      "\n",
      "See the caveats in the documentation: https://pandas.pydata.org/pandas-docs/stable/user_guide/indexing.html#returning-a-view-versus-a-copy\n",
      "  final_df['Debt/Equity'] = debt_to_equity\n",
      "/var/folders/4g/011mcyls15v476x5cqlrm5sm0000gn/T/ipykernel_7098/2169584726.py:2: SettingWithCopyWarning: \n",
      "A value is trying to be set on a copy of a slice from a DataFrame.\n",
      "Try using .loc[row_indexer,col_indexer] = value instead\n",
      "\n",
      "See the caveats in the documentation: https://pandas.pydata.org/pandas-docs/stable/user_guide/indexing.html#returning-a-view-versus-a-copy\n",
      "  final_df['Profit Margin'] = profit_margin\n"
     ]
    }
   ],
   "source": [
    "final_df['Debt/Equity'] = debt_to_equity\n",
    "final_df['Profit Margin'] = profit_margin"
   ]
  },
  {
   "cell_type": "code",
   "execution_count": 22,
   "id": "ff700abf",
   "metadata": {},
   "outputs": [],
   "source": [
    "final_df = final_df.reindex(columns = ['', 'Net Income', 'Other Operating Expenses', 'Research Development',\n",
    "       'Gross Profit', 'Growth Rate', 'Debt/Equity',\n",
    "       'Profit Margin', 'Symbol'])"
   ]
  },
  {
   "cell_type": "code",
   "execution_count": 23,
   "id": "393bfe3d",
   "metadata": {},
   "outputs": [
    {
     "data": {
      "text/html": [
       "<div>\n",
       "<style scoped>\n",
       "    .dataframe tbody tr th:only-of-type {\n",
       "        vertical-align: middle;\n",
       "    }\n",
       "\n",
       "    .dataframe tbody tr th {\n",
       "        vertical-align: top;\n",
       "    }\n",
       "\n",
       "    .dataframe thead th {\n",
       "        text-align: right;\n",
       "    }\n",
       "</style>\n",
       "<table border=\"1\" class=\"dataframe\">\n",
       "  <thead>\n",
       "    <tr style=\"text-align: right;\">\n",
       "      <th></th>\n",
       "      <th></th>\n",
       "      <th>Net Income</th>\n",
       "      <th>Other Operating Expenses</th>\n",
       "      <th>Research Development</th>\n",
       "      <th>Gross Profit</th>\n",
       "      <th>Growth Rate</th>\n",
       "      <th>Debt/Equity</th>\n",
       "      <th>Profit Margin</th>\n",
       "      <th>Symbol</th>\n",
       "    </tr>\n",
       "  </thead>\n",
       "  <tbody>\n",
       "    <tr>\n",
       "      <th>1</th>\n",
       "      <td>2021-09-25</td>\n",
       "      <td>9.468000e+10</td>\n",
       "      <td>0.0</td>\n",
       "      <td>2.191400e+10</td>\n",
       "      <td>1.528360e+11</td>\n",
       "      <td>0.948669</td>\n",
       "      <td>261.446</td>\n",
       "      <td>25.310000</td>\n",
       "      <td>AAPL</td>\n",
       "    </tr>\n",
       "    <tr>\n",
       "      <th>5</th>\n",
       "      <td>2020-12-31</td>\n",
       "      <td>2.133100e+10</td>\n",
       "      <td>-75000000.0</td>\n",
       "      <td>4.274000e+10</td>\n",
       "      <td>1.527570e+11</td>\n",
       "      <td>0.639342</td>\n",
       "      <td>119.525</td>\n",
       "      <td>2.255000</td>\n",
       "      <td>AMZN</td>\n",
       "    </tr>\n",
       "    <tr>\n",
       "      <th>9</th>\n",
       "      <td>2020-12-31</td>\n",
       "      <td>2.761395e+09</td>\n",
       "      <td>0.0</td>\n",
       "      <td>1.829600e+09</td>\n",
       "      <td>9.719737e+09</td>\n",
       "      <td>0.539733</td>\n",
       "      <td>80.047</td>\n",
       "      <td>16.027000</td>\n",
       "      <td>NFLX</td>\n",
       "    </tr>\n",
       "    <tr>\n",
       "      <th>13</th>\n",
       "      <td>2020-12-31</td>\n",
       "      <td>4.026900e+10</td>\n",
       "      <td>0.0</td>\n",
       "      <td>2.757300e+10</td>\n",
       "      <td>9.779500e+10</td>\n",
       "      <td>0.529625</td>\n",
       "      <td>11.567</td>\n",
       "      <td>23.746000</td>\n",
       "      <td>GOOGL</td>\n",
       "    </tr>\n",
       "    <tr>\n",
       "      <th>17</th>\n",
       "      <td>2021-06-30</td>\n",
       "      <td>6.127100e+10</td>\n",
       "      <td>0.0</td>\n",
       "      <td>2.071600e+10</td>\n",
       "      <td>1.158560e+11</td>\n",
       "      <td>0.842352</td>\n",
       "      <td>44.442</td>\n",
       "      <td>34.366000</td>\n",
       "      <td>MSFT</td>\n",
       "    </tr>\n",
       "    <tr>\n",
       "      <th>21</th>\n",
       "      <td>2021-01-31</td>\n",
       "      <td>4.332000e+09</td>\n",
       "      <td>0.0</td>\n",
       "      <td>3.924000e+09</td>\n",
       "      <td>1.055700e+10</td>\n",
       "      <td>0.444217</td>\n",
       "      <td>55.759</td>\n",
       "      <td>20.853001</td>\n",
       "      <td>NVDA</td>\n",
       "    </tr>\n",
       "    <tr>\n",
       "      <th>25</th>\n",
       "      <td>2020-12-31</td>\n",
       "      <td>7.210000e+08</td>\n",
       "      <td>-27000000.0</td>\n",
       "      <td>1.491000e+09</td>\n",
       "      <td>6.630000e+09</td>\n",
       "      <td>0.130640</td>\n",
       "      <td>14.284</td>\n",
       "      <td>14.947000</td>\n",
       "      <td>TSLA</td>\n",
       "    </tr>\n",
       "  </tbody>\n",
       "</table>\n",
       "</div>"
      ],
      "text/plain": [
       "                 Net Income  Other Operating Expenses  Research Development  \\\n",
       "1  2021-09-25  9.468000e+10                       0.0          2.191400e+10   \n",
       "5  2020-12-31  2.133100e+10               -75000000.0          4.274000e+10   \n",
       "9  2020-12-31  2.761395e+09                       0.0          1.829600e+09   \n",
       "13 2020-12-31  4.026900e+10                       0.0          2.757300e+10   \n",
       "17 2021-06-30  6.127100e+10                       0.0          2.071600e+10   \n",
       "21 2021-01-31  4.332000e+09                       0.0          3.924000e+09   \n",
       "25 2020-12-31  7.210000e+08               -27000000.0          1.491000e+09   \n",
       "\n",
       "    Gross Profit  Growth Rate  Debt/Equity  Profit Margin Symbol  \n",
       "1   1.528360e+11     0.948669      261.446      25.310000   AAPL  \n",
       "5   1.527570e+11     0.639342      119.525       2.255000   AMZN  \n",
       "9   9.719737e+09     0.539733       80.047      16.027000   NFLX  \n",
       "13  9.779500e+10     0.529625       11.567      23.746000  GOOGL  \n",
       "17  1.158560e+11     0.842352       44.442      34.366000   MSFT  \n",
       "21  1.055700e+10     0.444217       55.759      20.853001   NVDA  \n",
       "25  6.630000e+09     0.130640       14.284      14.947000   TSLA  "
      ]
     },
     "execution_count": 23,
     "metadata": {},
     "output_type": "execute_result"
    }
   ],
   "source": [
    "final_df "
   ]
  }
 ],
 "metadata": {
  "kernelspec": {
   "display_name": "Python 3 (ipykernel)",
   "language": "python",
   "name": "python3"
  },
  "language_info": {
   "codemirror_mode": {
    "name": "ipython",
    "version": 3
   },
   "file_extension": ".py",
   "mimetype": "text/x-python",
   "name": "python",
   "nbconvert_exporter": "python",
   "pygments_lexer": "ipython3",
   "version": "3.9.12"
  }
 },
 "nbformat": 4,
 "nbformat_minor": 5
}
